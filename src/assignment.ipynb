{
 "cells": [
  {
   "cell_type": "code",
   "execution_count": 15,
   "id": "36e80fdd",
   "metadata": {},
   "outputs": [
    {
     "name": "stdout",
     "output_type": "stream",
     "text": [
      "Note: you may need to restart the kernel to use updated packages.\n"
     ]
    }
   ],
   "source": [
    "pip install plotly pandas numpy"
   ]
  },
  {
   "cell_type": "markdown",
   "id": "bd973f0c-e101-4ce1-8ea5-ea6c9c302c28",
   "metadata": {},
   "source": [
    "# Balanced Risk Set Matching (Li et al., 2001)\n",
    "\n",
    "This is a study of treatment, cystoscopy, and hydrodistention, given in response to the symptoms of the chronic, nonlethal disease interstitial cystitis. The idea of the journal is to match the treatment of the patient with a similar history of symptoms who have different times receiving their treatment. It is described as time $t$ for when the patient received their treatment."
   ]
  },
  {
   "cell_type": "markdown",
   "id": "7eb03d30",
   "metadata": {},
   "source": [
    "## Data\n",
    "\n",
    "The journal uses the Interstitial Cystitis Data Base (ICDB) for the data, but we will be using synthetic data simulating a similar result. The data currently being used is not trained to accurately reproduce a similar result to ICDB."
   ]
  },
  {
   "cell_type": "code",
   "execution_count": 16,
   "id": "64ec1ac5",
   "metadata": {},
   "outputs": [
    {
     "data": {
      "text/html": [
       "<div>\n",
       "<style scoped>\n",
       "    .dataframe tbody tr th:only-of-type {\n",
       "        vertical-align: middle;\n",
       "    }\n",
       "\n",
       "    .dataframe tbody tr th {\n",
       "        vertical-align: top;\n",
       "    }\n",
       "\n",
       "    .dataframe thead th {\n",
       "        text-align: right;\n",
       "    }\n",
       "</style>\n",
       "<table border=\"1\" class=\"dataframe\">\n",
       "  <thead>\n",
       "    <tr style=\"text-align: right;\">\n",
       "      <th></th>\n",
       "      <th>gender</th>\n",
       "      <th>pain</th>\n",
       "      <th>urgency</th>\n",
       "      <th>nocturnal frequency</th>\n",
       "    </tr>\n",
       "  </thead>\n",
       "  <tbody>\n",
       "    <tr>\n",
       "      <th>0</th>\n",
       "      <td>M</td>\n",
       "      <td>3</td>\n",
       "      <td>3</td>\n",
       "      <td>4</td>\n",
       "    </tr>\n",
       "    <tr>\n",
       "      <th>1</th>\n",
       "      <td>F</td>\n",
       "      <td>8</td>\n",
       "      <td>7</td>\n",
       "      <td>2</td>\n",
       "    </tr>\n",
       "    <tr>\n",
       "      <th>2</th>\n",
       "      <td>F</td>\n",
       "      <td>0</td>\n",
       "      <td>4</td>\n",
       "      <td>3</td>\n",
       "    </tr>\n",
       "    <tr>\n",
       "      <th>3</th>\n",
       "      <td>F</td>\n",
       "      <td>4</td>\n",
       "      <td>2</td>\n",
       "      <td>3</td>\n",
       "    </tr>\n",
       "    <tr>\n",
       "      <th>4</th>\n",
       "      <td>M</td>\n",
       "      <td>8</td>\n",
       "      <td>5</td>\n",
       "      <td>2</td>\n",
       "    </tr>\n",
       "    <tr>\n",
       "      <th>5</th>\n",
       "      <td>F</td>\n",
       "      <td>6</td>\n",
       "      <td>8</td>\n",
       "      <td>2</td>\n",
       "    </tr>\n",
       "    <tr>\n",
       "      <th>6</th>\n",
       "      <td>M</td>\n",
       "      <td>2</td>\n",
       "      <td>8</td>\n",
       "      <td>4</td>\n",
       "    </tr>\n",
       "    <tr>\n",
       "      <th>7</th>\n",
       "      <td>F</td>\n",
       "      <td>7</td>\n",
       "      <td>4</td>\n",
       "      <td>3</td>\n",
       "    </tr>\n",
       "    <tr>\n",
       "      <th>8</th>\n",
       "      <td>M</td>\n",
       "      <td>3</td>\n",
       "      <td>5</td>\n",
       "      <td>1</td>\n",
       "    </tr>\n",
       "    <tr>\n",
       "      <th>9</th>\n",
       "      <td>F</td>\n",
       "      <td>5</td>\n",
       "      <td>9</td>\n",
       "      <td>3</td>\n",
       "    </tr>\n",
       "  </tbody>\n",
       "</table>\n",
       "</div>"
      ],
      "text/plain": [
       "  gender  pain  urgency  nocturnal frequency\n",
       "0      M     3        3                    4\n",
       "1      F     8        7                    2\n",
       "2      F     0        4                    3\n",
       "3      F     4        2                    3\n",
       "4      M     8        5                    2\n",
       "5      F     6        8                    2\n",
       "6      M     2        8                    4\n",
       "7      F     7        4                    3\n",
       "8      M     3        5                    1\n",
       "9      F     5        9                    3"
      ]
     },
     "execution_count": 16,
     "metadata": {},
     "output_type": "execute_result"
    }
   ],
   "source": [
    "from defs import patients_evaluations\n",
    "\n",
    "patients_evaluations[0][[\"gender\", \"pain\", \"urgency\", \"nocturnal frequency\"]].head(10)"
   ]
  },
  {
   "cell_type": "markdown",
   "id": "f6bd1c35",
   "metadata": {},
   "source": [
    "Patients are evaluated at intervals of approximately every 3 months thereafter for up to 4 years. Three quantities are measured repeatedly over time:\n",
    "\n",
    "- Pain\n",
    "- Urgency\n",
    "- Nocturnal Frequency\n",
    "\n",
    "Pain and urgency are subjective appraisals on a scale from 0 - 9."
   ]
  },
  {
   "cell_type": "code",
   "execution_count": 39,
   "id": "ec24327b",
   "metadata": {},
   "outputs": [
    {
     "data": {
      "text/html": [
       "<div>\n",
       "<style scoped>\n",
       "    .dataframe tbody tr th:only-of-type {\n",
       "        vertical-align: middle;\n",
       "    }\n",
       "\n",
       "    .dataframe tbody tr th {\n",
       "        vertical-align: top;\n",
       "    }\n",
       "\n",
       "    .dataframe thead th {\n",
       "        text-align: right;\n",
       "    }\n",
       "</style>\n",
       "<table border=\"1\" class=\"dataframe\">\n",
       "  <thead>\n",
       "    <tr style=\"text-align: right;\">\n",
       "      <th></th>\n",
       "      <th>evaluation per iterval</th>\n",
       "    </tr>\n",
       "  </thead>\n",
       "  <tbody>\n",
       "    <tr>\n",
       "      <th>0</th>\n",
       "      <td>id gender  pain  urgency  nocturnal freq...</td>\n",
       "    </tr>\n",
       "    <tr>\n",
       "      <th>1</th>\n",
       "      <td>id gender  pain  urgency  nocturnal freq...</td>\n",
       "    </tr>\n",
       "    <tr>\n",
       "      <th>2</th>\n",
       "      <td>id gender  pain  urgency  nocturnal freq...</td>\n",
       "    </tr>\n",
       "    <tr>\n",
       "      <th>3</th>\n",
       "      <td>id gender  pain  urgency  nocturnal freq...</td>\n",
       "    </tr>\n",
       "    <tr>\n",
       "      <th>4</th>\n",
       "      <td>id gender  pain  urgency  nocturnal freq...</td>\n",
       "    </tr>\n",
       "    <tr>\n",
       "      <th>5</th>\n",
       "      <td>id gender  pain  urgency  nocturnal freq...</td>\n",
       "    </tr>\n",
       "    <tr>\n",
       "      <th>6</th>\n",
       "      <td>id gender  pain  urgency  nocturnal freq...</td>\n",
       "    </tr>\n",
       "    <tr>\n",
       "      <th>7</th>\n",
       "      <td>id gender  pain  urgency  nocturnal freq...</td>\n",
       "    </tr>\n",
       "    <tr>\n",
       "      <th>8</th>\n",
       "      <td>id gender  pain  urgency  nocturnal freq...</td>\n",
       "    </tr>\n",
       "    <tr>\n",
       "      <th>9</th>\n",
       "      <td>id gender  pain  urgency  nocturnal freq...</td>\n",
       "    </tr>\n",
       "    <tr>\n",
       "      <th>10</th>\n",
       "      <td>id gender  pain  urgency  nocturnal freq...</td>\n",
       "    </tr>\n",
       "    <tr>\n",
       "      <th>11</th>\n",
       "      <td>id gender  pain  urgency  nocturnal freq...</td>\n",
       "    </tr>\n",
       "    <tr>\n",
       "      <th>12</th>\n",
       "      <td>id gender  pain  urgency  nocturnal freq...</td>\n",
       "    </tr>\n",
       "    <tr>\n",
       "      <th>13</th>\n",
       "      <td>id gender  pain  urgency  nocturnal freq...</td>\n",
       "    </tr>\n",
       "    <tr>\n",
       "      <th>14</th>\n",
       "      <td>id gender  pain  urgency  nocturnal freq...</td>\n",
       "    </tr>\n",
       "    <tr>\n",
       "      <th>15</th>\n",
       "      <td>id gender  pain  urgency  nocturnal freq...</td>\n",
       "    </tr>\n",
       "  </tbody>\n",
       "</table>\n",
       "</div>"
      ],
      "text/plain": [
       "                               evaluation per iterval\n",
       "0         id gender  pain  urgency  nocturnal freq...\n",
       "1         id gender  pain  urgency  nocturnal freq...\n",
       "2         id gender  pain  urgency  nocturnal freq...\n",
       "3         id gender  pain  urgency  nocturnal freq...\n",
       "4         id gender  pain  urgency  nocturnal freq...\n",
       "5         id gender  pain  urgency  nocturnal freq...\n",
       "6         id gender  pain  urgency  nocturnal freq...\n",
       "7         id gender  pain  urgency  nocturnal freq...\n",
       "8         id gender  pain  urgency  nocturnal freq...\n",
       "9         id gender  pain  urgency  nocturnal freq...\n",
       "10        id gender  pain  urgency  nocturnal freq...\n",
       "11        id gender  pain  urgency  nocturnal freq...\n",
       "12        id gender  pain  urgency  nocturnal freq...\n",
       "13        id gender  pain  urgency  nocturnal freq...\n",
       "14        id gender  pain  urgency  nocturnal freq...\n",
       "15        id gender  pain  urgency  nocturnal freq..."
      ]
     },
     "execution_count": 39,
     "metadata": {},
     "output_type": "execute_result"
    }
   ],
   "source": [
    "from defs import patients_evaluations\n",
    "import pandas as pd\n",
    "\n",
    "# The first element of the list is the evaluation on entry\n",
    "pd.DataFrame({\"evaluation per iterval\": patients_evaluations})"
   ]
  },
  {
   "cell_type": "markdown",
   "id": "00888637-16c2-4824-bfc4-2ec88b1e7f7b",
   "metadata": {},
   "source": [
    "## Matching by Minimum Cost Flow in a Network\n",
    "\n",
    "Set $\\mathcal{A} = \\{ \\alpha_1, \\dots, \\alpha_M \\}$ called units. Set $\\mathcal{T} \\subseteq \\mathcal{A}$ called treated units. Set $\\mathcal{E} \\subseteq \\mathcal{T} \\times \\mathcal{A}$ called edges. If the pair $e = ( \\alpha_p, \\alpha_q )$ is an edge $e \\in \\mathcal{E}$, then it is permitted to match $\\alpha_p$ to $\\alpha_q$, but if $e \\not\\in \\mathcal{E}$, then this match is forbidden.\n",
    "\n",
    "The journal $\\mathcal{A}$ consists of 400 patients randomly sampled from the IC database.\n",
    "\n",
    "For each $e \\in \\mathcal{E}$, there is a distance $\\delta_e > 0$. The distance $\\delta_e$ is the Mahalanobis distance between subject $\\alpha_p$ and control $\\alpha_q$ on a six-dimensional covariate describing the three symptoms at baseline and at time $T_p$ when $a_q$ received treatment.\n",
    "\n",
    "Set $S \\subseteq M \\subseteq \\mathcal{E}$ where $|M| = S$ edges such that each unit $\\alpha_q \\in \\mathcal{A}$ appears in at most one matched pair, possibly as $(\\alpha_p, \\alpha_q) \\in M$ or as $(\\alpha_q, \\alpha_p) \\in M$ but not as both. $\\sum_{e \\in M} \\delta_e$ over all pair matchings $M$ of size $S$ obtainable with the given structure $\\mathcal{A}, \\mathcal{T}, \\mathcal{E}$.\n",
    "\n",
    "$|M| = S = 100$ matched pairs. There are three variables: pain score, urgency score, and nocturnal frequency. A patient is paired to their matched not-yet-treated data."
   ]
  },
  {
   "cell_type": "markdown",
   "id": "795a3fb0",
   "metadata": {},
   "source": [
    "## Balanced Pair Matching\n",
    "\n"
   ]
  },
  {
   "cell_type": "markdown",
   "id": "290c9a51-8059-4e29-952c-1e69a8871929",
   "metadata": {},
   "source": [
    "## References\n",
    "\n",
    "Li, Y. P., Propert, K. J., & Rosenbaum, P. R. (2001). Balanced risk set matching. Journal of the American Statistical Association, 96(455), 870–882. https://doi.org/10.1198/016214501753208573"
   ]
  }
 ],
 "metadata": {
  "kernelspec": {
   "display_name": ".venv",
   "language": "python",
   "name": "python3"
  },
  "language_info": {
   "codemirror_mode": {
    "name": "ipython",
    "version": 3
   },
   "file_extension": ".py",
   "mimetype": "text/x-python",
   "name": "python",
   "nbconvert_exporter": "python",
   "pygments_lexer": "ipython3",
   "version": "3.13.1"
  }
 },
 "nbformat": 4,
 "nbformat_minor": 5
}
