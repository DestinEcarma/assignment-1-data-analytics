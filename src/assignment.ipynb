{
 "cells": [
  {
   "cell_type": "markdown",
   "id": "bd973f0c-e101-4ce1-8ea5-ea6c9c302c28",
   "metadata": {},
   "source": [
    "# Balanced Risk Set Matching (Yunfei et al., 2011) Review\n",
    "\n",
    "This is not my field of study, so there might be some misinterpretation that may occur on this review. This is a study of treatment, cystoscopy, and hydrodistention, given in response to the symptoms of the chronic, nonlethal disease interstitial cystitis. The idea of the journal is to match the treatment of the patient with a similar history of symptoms who have different times receiving their treatment. It is described as time $t$ for when the patient received their treatment."
   ]
  },
  {
   "cell_type": "markdown",
   "id": "8eff2a65-7343-492c-a682-1eca7359cf46",
   "metadata": {},
   "source": [
    "## Matching To Achieve Comparable Histories\n",
    "\n"
   ]
  }
 ],
 "metadata": {
  "kernelspec": {
   "display_name": "Python 3 (ipykernel)",
   "language": "python",
   "name": "python3"
  },
  "language_info": {
   "codemirror_mode": {
    "name": "ipython",
    "version": 3
   },
   "file_extension": ".py",
   "mimetype": "text/x-python",
   "name": "python",
   "nbconvert_exporter": "python",
   "pygments_lexer": "ipython3",
   "version": "3.13.1"
  }
 },
 "nbformat": 4,
 "nbformat_minor": 5
}
